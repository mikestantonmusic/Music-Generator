{
 "cells": [
  {
   "cell_type": "code",
   "execution_count": 252,
   "metadata": {
    "scrolled": true
   },
   "outputs": [],
   "source": [
    "#pip install mido"
   ]
  },
  {
   "cell_type": "code",
   "execution_count": 253,
   "metadata": {},
   "outputs": [],
   "source": [
    "#pip install pygame"
   ]
  },
  {
   "cell_type": "code",
   "execution_count": 254,
   "metadata": {
    "tags": []
   },
   "outputs": [],
   "source": [
    "#pip install fluidsynth"
   ]
  },
  {
   "cell_type": "code",
   "execution_count": 255,
   "metadata": {},
   "outputs": [],
   "source": [
    "# you also have to install the fluidynth exe using chocolatey\n",
    "# see the fluidsynth and chocolatey website for details\n",
    "# you also have to install the timidity exe from the timidity website"
   ]
  },
  {
   "cell_type": "code",
   "execution_count": 256,
   "metadata": {},
   "outputs": [],
   "source": [
    "import os\n",
    "import numpy as np\n",
    "import mido\n",
    "import subprocess\n",
    "import pygame\n",
    "import random\n",
    "from mido import Message, MidiFile, MidiTrack"
   ]
  },
  {
   "cell_type": "code",
   "execution_count": 257,
   "metadata": {},
   "outputs": [],
   "source": [
    "mid = MidiFile()\n",
    "track = MidiTrack()\n",
    "mid.tracks.append(track)"
   ]
  },
  {
   "cell_type": "code",
   "execution_count": 258,
   "metadata": {},
   "outputs": [
    {
     "data": {
      "text/plain": [
       "array([-7, -6, -5, -4, -3, -2, -1,  0,  1,  2,  3,  4,  5,  6])"
      ]
     },
     "execution_count": 258,
     "metadata": {},
     "output_type": "execute_result"
    }
   ],
   "source": [
    "np.array(range(-7,7))"
   ]
  },
  {
   "cell_type": "code",
   "execution_count": 259,
   "metadata": {},
   "outputs": [
    {
     "name": "stdout",
     "output_type": "stream",
     "text": [
      "bassnotes:  [2, 1, 6, 4, 6, 5, 6]\n"
     ]
    }
   ],
   "source": [
    "# build the music generation algorithm here...\n",
    "\n",
    "measurelength = 2240\n",
    "\n",
    "cmajorscale = []\n",
    "for n in range(72,84): # 0, 12, 24 etc are C. start at 72 to keep the melody in the higher register\n",
    "    if n%12 in [0,2,4,5,7,9,11]:\n",
    "        cmajorscale.append(n)\n",
    "\n",
    "def new_note(current_note):\n",
    "    # Parameters for the Gaussian probability distribution of the intervals\n",
    "    mean = 0  # Center of the integers (can adjust)\n",
    "    std_dev = 2  \n",
    "    integers = np.array(range(-7,8))\n",
    "    \n",
    "    # Calculate the Gaussian probabilities\n",
    "    probabilities = np.exp(-0.5 * ((integers - mean) / std_dev) ** 2)\n",
    "    probabilities /= probabilities.sum()  # Normalize to sum to 1\n",
    "    \n",
    "    # Generate random indices of the scale vector based on the Gaussian distribution\n",
    "    interval = np.random.choice(integers, p=probabilities)\n",
    "    if current_note + interval < 0:\n",
    "        next_note = current_note + interval + 7\n",
    "    if current_note + interval > 6:\n",
    "        next_note = current_note + interval -7\n",
    "    else: \n",
    "        next_note = current_note + interval\n",
    "\n",
    "    return next_note\n",
    "\n",
    "cmajchords = np.matrix([[36, 38, 40, 41, 43, 45, 47], # this matrix is used to build diatonic chord progressions in the key of C Maj\n",
    "[52, 53, 55, 57, 59, 60, 62],\n",
    "[55, 57, 59, 60, 62, 64, 65],\n",
    "[59, 60, 62, 64, 65, 67, 69]])\n",
    "\n",
    "bassnotes = []\n",
    "i=1\n",
    "while i < 8: # the number of chords/ bars in the progression\n",
    "    bassnotes.append(random.randint(0,6))\n",
    "    i=i+1\n",
    "print('bassnotes: ', bassnotes)\n",
    "\n",
    "def build_track(numberofloops):\n",
    "    l=1\n",
    "    while l <= numberofloops:\n",
    "        for i in range(len(bassnotes)):\n",
    "\n",
    "            # specifications for each chord in the sequence\n",
    "            for row in range(len(cmajchords)):\n",
    "                track.append(Message('note_on', note=cmajchords[row,bassnotes[i]], velocity=52, time=0))\n",
    "\n",
    "            # logic for the melody notes applied to each chord\n",
    "            melodystart = int(random.choice([measurelength/1,measurelength/2,measurelength/4,0]))\n",
    "            firstnote = cmajorscale.index(random.choice(cmajorscale))\n",
    "            track.append(Message('note_on', note=cmajorscale[firstnote], velocity=64, time=melodystart))\n",
    "            t = melodystart # t is the amount of time since the last chord was played\n",
    "            r = 1 # r is the number of melody notes since the chord was played\n",
    "            while t <= measurelength:       \n",
    "                melodyrhythm = int(random.choice([measurelength/1,measurelength/2,measurelength/4]))\n",
    "                if r == 1:\n",
    "                    track.append(Message('note_off', note=cmajorscale[firstnote], velocity=64, time=melodyrhythm))\n",
    "                    currentnote = firstnote\n",
    "                    t = t + melodyrhythm\n",
    "                if r != 1:\n",
    "                    track.append(Message('note_off', note=cmajorscale[currentnote], velocity=64, time=melodyrhythm)) \n",
    "                    currentnote = new_note(currentnote)\n",
    "                track.append(Message('note_on', note=cmajorscale[currentnote], velocity=64, time=0))\n",
    "                t = t + melodyrhythm\n",
    "                r = r + 1\n",
    "                \n",
    "            # specifications for cutting off each chord in the sequence\n",
    "            for row in range(len(cmajchords)):\n",
    "                track.append(Message('note_off', note=cmajchords[row,bassnotes[i]], velocity=52, time=0)) \n",
    "            \n",
    "        l=l+1\n",
    "\n",
    "build_track(numberofloops=3) # the number of times the whole progression is played"
   ]
  },
  {
   "cell_type": "code",
   "execution_count": 260,
   "metadata": {},
   "outputs": [],
   "source": [
    "# use fluidsynth, timidity, and pygame to play back the audio out loud\n",
    "current_folder = os.getcwd()\n",
    "parent_folder = os.path.dirname(current_folder)\n",
    "reference_files = parent_folder+'\\\\reference_files'\n",
    "\n",
    "mid.save(reference_files+'\\\\output.mid')\n",
    "timidity_path = reference_files+'\\\\TiMidity++-2.15.0\\\\timidity.exe'\n",
    "soundfont_path = reference_files+'\\\\Essential Keys-sforzando-v9.6.sf2'\n",
    "midi_file_path = reference_files+'\\\\output.mid'\n",
    "output_audio_path = reference_files+'\\\\output.wav'\n",
    "\n",
    "subprocess.run([timidity_path, '-A', '-Ow', '-o', output_audio_path, '-T', 'wav', '-EFreverb=0', '-EFchorus=0', midi_file_path, soundfont_path])\n",
    "\n",
    "fluidsynth_path = r'C:\\ProgramData\\chocolatey\\bin\\fluidsynth.exe' # TODO: move the file path specifications to an external file\n",
    "soundfont_path = reference_files+'\\\\Essential Keys-sforzando-v9.6.sf2'\n",
    "midi_file_path = reference_files+'\\\\output.mid'\n",
    "output_audio_path = reference_files+'\\\\output.wav'\n",
    "\n",
    "subprocess.run([fluidsynth_path, '-F', output_audio_path, soundfont_path, midi_file_path])\n",
    "\n",
    "pygame.init()\n",
    "pygame.mixer.music.load(reference_files+'\\\\output.mid')\n",
    "pygame.mixer.music.play()"
   ]
  }
 ],
 "metadata": {
  "kernelspec": {
   "display_name": "Python [conda env:base] *",
   "language": "python",
   "name": "conda-base-py"
  },
  "language_info": {
   "codemirror_mode": {
    "name": "ipython",
    "version": 3
   },
   "file_extension": ".py",
   "mimetype": "text/x-python",
   "name": "python",
   "nbconvert_exporter": "python",
   "pygments_lexer": "ipython3",
   "version": "3.12.7"
  }
 },
 "nbformat": 4,
 "nbformat_minor": 4
}
